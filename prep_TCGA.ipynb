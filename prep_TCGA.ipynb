{
 "cells": [
  {
   "cell_type": "code",
   "execution_count": 268,
   "metadata": {},
   "outputs": [],
   "source": [
    "# Read the relevant excel files in the folder TCGA_tables, TCGA_survival_time_per_patient_by_ofir_metadata.xlsx, TCGA_AI_scores_per_patient.xlsx, and TCGA_drug_sensitivity_per_patient.xlsx\n",
    "\n",
    "import pandas as pd\n",
    "import numpy as np\n",
    "\n",
    "# Read the relevant excel files\n",
    "surv_time = pd.read_excel('TCGA_tables/TCGA_survival_time_per_patient_by_ofir_metadata.xlsx')\n",
    "ai_scores = pd.read_excel('TCGA_tables/TCGA_AI_scores_per_patient.xlsx')\n",
    "drug_sensitivity = pd.read_excel('TCGA_tables/TCGA_drug_sensitivity_per_patient.xlsx')\n",
    "gene_expression = pd.read_excel('TCGA_tables/TCGA_gene_sig_per_patient.xlsx')\n",
    "\n",
    "# Merge the dataframes on the PatientID column\n",
    "merged = pd.merge(surv_time, ai_scores, on='PatientID')\n",
    "merged = pd.merge(merged, drug_sensitivity, on='PatientID')\n",
    "merged = pd.merge(merged, gene_expression, on='PatientID')\n"
   ]
  },
  {
   "cell_type": "code",
   "execution_count": 269,
   "metadata": {},
   "outputs": [],
   "source": [
    "relevant_columns = ['PatientID', 'Overall_Survival__Months_', 'Overall_Survival_Status', 'tamoxifen', 'lapatinib', 'label_ER', 'label_PR', 'label_Her2', 'Grade', 'TumorType', 'PGR', 'ESR1', 'ERBB2', 'ERBB2_DESMEDT_18698033', 'Gender', 'Age']\n",
    "merged = merged[relevant_columns]"
   ]
  },
  {
   "cell_type": "code",
   "execution_count": 270,
   "metadata": {},
   "outputs": [
    {
     "name": "stdout",
     "output_type": "stream",
     "text": [
      "Nuber of rows with nan values: 206\n",
      "Columns with nan values: PatientID                      0\n",
      "Overall_Survival__Months_      1\n",
      "Overall_Survival_Status        1\n",
      "tamoxifen                    114\n",
      "lapatinib                    114\n",
      "label_ER                       3\n",
      "label_PR                       6\n",
      "label_Her2                   138\n",
      "Grade                         53\n",
      "TumorType                      0\n",
      "PGR                           12\n",
      "ESR1                          12\n",
      "ERBB2                         12\n",
      "ERBB2_DESMEDT_18698033         4\n",
      "Gender                         0\n",
      "Age                            1\n",
      "dtype: int64\n"
     ]
    }
   ],
   "source": [
    "# Count rows with nan\n",
    "print(\"Nuber of rows with nan values:\", (merged.isnull().sum(axis=1) > 0).sum())\n",
    "# Which columns have nan values\n",
    "print(\"Columns with nan values:\", merged.isnull().sum())"
   ]
  },
  {
   "cell_type": "code",
   "execution_count": 271,
   "metadata": {},
   "outputs": [],
   "source": [
    "# Drop missing with few examples\n",
    "merged = merged.dropna(subset=['label_ER', 'Overall_Survival__Months_', 'Overall_Survival_Status'])\n",
    "# Fill missing PR with ER\n",
    "merged['label_PR'] = merged['label_PR'].fillna(merged['label_ER'])\n",
    "# Fill missing label_Her2, Grade, tamoxifen, and lapatinib with -1\n",
    "merged = merged.fillna(-1)"
   ]
  },
  {
   "cell_type": "code",
   "execution_count": 272,
   "metadata": {},
   "outputs": [
    {
     "name": "stdout",
     "output_type": "stream",
     "text": [
      "Infiltrating Ductal Carcinoma                                                                746\n",
      "Infiltrating Lobular Carcinoma                                                               197\n",
      "Other, specify                                                                                45\n",
      "Mucinous Carcinoma                                                                            16\n",
      "Metaplastic Carcinoma                                                                          9\n",
      "Mixed Histology (please specify) -Infiltrating ductal and lobular carcinoma                    8\n",
      "Medullary Carcinoma                                                                            4\n",
      "Mixed Histology (please specify) -lobular/ductal                                               2\n",
      "Mixed Histology (please specify) -Lobular/Ductal                                               2\n",
      "Mixed Histology (please specify) -Mixed invasive ductal and invasive lobular                   2\n",
      "Mixed Histology (please specify) -ductal/lobular                                               1\n",
      "Mixed Histology (please specify) -Infiltrating ductal & lobular                                1\n",
      "Infiltrating Carcinoma NOS                                                                     1\n",
      "Mixed Histology (please specify) -invasive ductal and lobular carcinoma                        1\n",
      "Mixed Histology (please specify) -ductal and lobular features                                  1\n",
      "Mixed Histology (please specify) -with ductal and lobular phenotypes                           1\n",
      "Mixed Histology (please specify) -Ductal/Lobular                                               1\n",
      "Mixed Histology (please specify) -Mixed infiltrating lobular and grade 1 ductal carcinoma      1\n",
      "[Not Available]                                                                                1\n",
      "Mixed Histology (please specify) -ductal and lobular                                           1\n",
      "Mixed Histology (please specify) -Lobular carcinoma with ductal features                       1\n",
      "Mixed Histology (please specify) -Invasive mixed ductal and lobular carcinoma                  1\n",
      "Mixed Histology (please specify) -Invasive ductal and lobular carcinoma                        1\n",
      "Name: TumorType, dtype: int64\n"
     ]
    }
   ],
   "source": [
    "# count values in TumorType\n",
    "print(merged['TumorType'].value_counts())"
   ]
  },
  {
   "cell_type": "code",
   "execution_count": 273,
   "metadata": {},
   "outputs": [],
   "source": [
    "# Create two new columns, one for ductul carcinoma, and one for lobular carcinoma\n",
    "merged['ductal_carcinoma'] = merged['TumorType'].apply(lambda x: 1 if 'ductal' in x.lower() else 0)\n",
    "merged['lobular_carcinoma'] = merged['TumorType'].apply(lambda x: 1 if 'lobular' in x.lower() else 0)\n",
    "merged = merged.drop('TumorType', axis=1)"
   ]
  },
  {
   "cell_type": "code",
   "execution_count": 274,
   "metadata": {},
   "outputs": [],
   "source": [
    "# binarize the Overall_Survival_Status column\n",
    "merged['Overall_Survival_Status'] = merged['Overall_Survival_Status'].apply(lambda x: 1 if x == 'DECEASED' else 0)\n",
    "merged.rename(columns={'Overall_Survival__Months_': 'time', 'Overall_Survival_Status': 'event'}, inplace=True)"
   ]
  },
  {
   "cell_type": "code",
   "execution_count": 275,
   "metadata": {},
   "outputs": [],
   "source": [
    "merged['Gender'] = merged['Gender'].apply(lambda x: 1 if x == 'Female' else 0)"
   ]
  },
  {
   "cell_type": "code",
   "execution_count": 276,
   "metadata": {},
   "outputs": [],
   "source": [
    "# For each PatientID, find a folder in '/SSDStorage/Breast/gigapath_CAT_features/gigapath_features' whose name contains the PatientID\n",
    "# Inside the folder, find the file final_embed_*.npy. Read it and save the vectors inside to a numpy array\n",
    "\n",
    "import os\n",
    "import numpy as np\n",
    "\n",
    "# Get the list of PatientIDs\n",
    "PatientIDs = merged['PatientID'].values\n",
    "\n",
    "# Get the list of folders in the gigapath_features folder\n",
    "folders = os.listdir('/SSDStorage/Breast/gigapath_CAT_features/gigapath_features')\n",
    "\n",
    "# Create a dictionary to store the embeddings\n",
    "embeddings = {}\n",
    "\n",
    "# Loop over the folders\n",
    "for folder in folders:\n",
    "    # Check if the folder name contains a PatientID\n",
    "    for PatientID in PatientIDs:\n",
    "        if PatientID in folder:\n",
    "            # Get the list of files in the folder\n",
    "            files = os.listdir('/SSDStorage/Breast/gigapath_CAT_features/gigapath_features/' + folder)\n",
    "            # Loop over the files\n",
    "            for file in files:\n",
    "                # Check if the file name contains final_embed_\n",
    "                if 'final_embed_' in file:\n",
    "                    # Read the file\n",
    "                    embeddings[PatientID] = np.load('/SSDStorage/Breast/gigapath_CAT_features/gigapath_features/' + folder + '/' + file)[0]"
   ]
  },
  {
   "cell_type": "code",
   "execution_count": 277,
   "metadata": {},
   "outputs": [
    {
     "name": "stdout",
     "output_type": "stream",
     "text": [
      "Explained variance ratio: [0.5430749  0.10453925 0.08282101]\n",
      "Explained variance ratio sum: 0.7304352\n"
     ]
    }
   ],
   "source": [
    "# Use PCA to reduce the dimensionality of the embeddings to 10\n",
    "from sklearn.decomposition import PCA\n",
    "\n",
    "pca = PCA(n_components=3)\n",
    "X = np.array([embeddings[PatientID] for PatientID in PatientIDs])\n",
    "X = pca.fit_transform(X)\n",
    "\n",
    "# Print statistics\n",
    "print(\"Explained variance ratio:\", pca.explained_variance_ratio_)\n",
    "print(\"Explained variance ratio sum:\", pca.explained_variance_ratio_.sum())\n",
    "\n",
    "# Merge the embeddings with the dataframe\n",
    "X = pd.DataFrame(X, columns=['PC' + str(i) for i in range(1, 4)], index=PatientIDs)\n",
    "merged = pd.merge(merged, X, left_on='PatientID', right_index=True)"
   ]
  },
  {
   "cell_type": "code",
   "execution_count": 279,
   "metadata": {},
   "outputs": [],
   "source": [
    "# Save the resulting table to a csv file\n",
    "merged.to_csv('TCGA_tables/TCGA_merged.csv', index=False)"
   ]
  },
  {
   "cell_type": "code",
   "execution_count": 280,
   "metadata": {},
   "outputs": [
    {
     "name": "stdout",
     "output_type": "stream",
     "text": [
      "Proportion of subjects with event == 0 and duration < 8.976: 0.10398230088495575\n",
      "Proportion of subjects with event == 1 and duration < 8.976: 0.012168141592920354\n"
     ]
    }
   ],
   "source": [
    "# Print the proportion of subjects that have event == 0, and a duration < 5\n",
    "print(\"Proportion of subjects with event == 0 and duration < 8.976:\", ((merged['event'] == 0) & (merged['time'] < 8.976)).sum() / (merged['event'] == 0).sum())\n",
    "print(\"Proportion of subjects with event == 1 and duration < 8.976:\", ((merged['event'] == 1) & (merged['time'] < 8.976)).sum() / (merged['event'] == 0).sum())"
   ]
  },
  {
   "cell_type": "code",
   "execution_count": 281,
   "metadata": {},
   "outputs": [
    {
     "name": "stdout",
     "output_type": "stream",
     "text": [
      "Censored time 0.1 quantile: 8.979000000000001\n",
      "Uncensored 0.1 quantile: 10.458\n",
      "Censored 0.1 quantile: 8.788000000000002\n"
     ]
    }
   ],
   "source": [
    "# survival 0.1 quantile\n",
    "print(\"Censored time 0.1 quantile:\", merged['time'].quantile(0.1))\n",
    "# uncensored 0.1 quantile\n",
    "print(\"Uncensored 0.1 quantile:\", merged[merged['event'] == 1]['time'].quantile(0.1))\n",
    "# censored 0.1 quantile\n",
    "print(\"Censored 0.1 quantile:\", merged[merged['event'] == 0]['time'].quantile(0.1))"
   ]
  },
  {
   "cell_type": "code",
   "execution_count": 282,
   "metadata": {},
   "outputs": [
    {
     "name": "stdout",
     "output_type": "stream",
     "text": [
      "Mean time: 41.51514367816092\n",
      "Median time: 27.86\n"
     ]
    }
   ],
   "source": [
    "# Mean and median time\n",
    "print(\"Mean time:\", merged['time'].mean())\n",
    "print(\"Median time:\", merged['time'].median())"
   ]
  }
 ],
 "metadata": {
  "kernelspec": {
   "display_name": "conda_master",
   "language": "python",
   "name": "python3"
  },
  "language_info": {
   "codemirror_mode": {
    "name": "ipython",
    "version": 3
   },
   "file_extension": ".py",
   "mimetype": "text/x-python",
   "name": "python",
   "nbconvert_exporter": "python",
   "pygments_lexer": "ipython3",
   "version": "3.10.6"
  }
 },
 "nbformat": 4,
 "nbformat_minor": 2
}
